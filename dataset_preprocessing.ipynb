{
 "cells": [
  {
   "cell_type": "markdown",
   "id": "907a7627",
   "metadata": {},
   "source": [
    "## Dataset Preprocessing for Exercise 2"
   ]
  },
  {
   "cell_type": "markdown",
   "id": "84a08028",
   "metadata": {},
   "source": [
    "### Setup and Imports"
   ]
  },
  {
   "cell_type": "code",
   "execution_count": null,
   "id": "34107982",
   "metadata": {
    "vscode": {
     "languageId": "plaintext"
    }
   },
   "outputs": [],
   "source": [
    "%pip install -q ucimlrepo"
   ]
  },
  {
   "cell_type": "code",
   "execution_count": null,
   "id": "e0259bc9",
   "metadata": {
    "vscode": {
     "languageId": "plaintext"
    }
   },
   "outputs": [],
   "source": [
    "import pandas as pd\n",
    "import numpy as np\n",
    "from scipy.io import arff\n",
    "import requests\n",
    "import io\n",
    "from ucimlrepo import fetch_ucirepo\n",
    "\n",
    "from  nn.nn import NN\n",
    "from nn.layer import Layer\n",
    "from nn.functions import *"
   ]
  },
  {
   "cell_type": "markdown",
   "id": "41641a5d",
   "metadata": {},
   "source": [
    "## Polish Bankruptcy Dataset"
   ]
  },
  {
   "cell_type": "code",
   "execution_count": null,
   "id": "2341bd70",
   "metadata": {
    "vscode": {
     "languageId": "plaintext"
    }
   },
   "outputs": [],
   "source": [
    "data = fetch_ucirepo(id=365)\n",
    "\n",
    "bancrupcy_df = data.data.original\n",
    "\n",
    "print(bancrupcy_df.shape)\n",
    "print(bancrupcy_df.columns)\n",
    "print(bancrupcy_df.head())"
   ]
  },
  {
   "cell_type": "code",
   "execution_count": null,
   "id": "f0826684",
   "metadata": {
    "vscode": {
     "languageId": "plaintext"
    }
   },
   "outputs": [],
   "source": [
    "column_names = {\n",
    "    \"A1\": \"net_profit_total_assets\",\n",
    "    \"A2\": \"total_liabilities_total_assets\",\n",
    "    \"A3\": \"working_capital_total_assets\",\n",
    "    \"A4\": \"current_assets_short_term_liabilities\",\n",
    "    \"A5\": \"cash_securities_receivables_short_term_liabilities_ratio\",\n",
    "    \"A6\": \"retained_earnings_total_assets\",\n",
    "    \"A7\": \"EBIT_total_assets\",\n",
    "    \"A8\": \"book_value_equity_total_liabilities\",\n",
    "    \"A9\": \"sales_total_assets\",\n",
    "    \"A10\": \"equity_total_assets\",\n",
    "    \"A11\": \"gross_profit_financial_expenses_total_assets\",\n",
    "    \"A12\": \"gross_profit_short_term_liabilities\",\n",
    "    \"A13\": \"gross_profit_depreciation_sales\",\n",
    "    \"A14\": \"gross_profit_interest_total_assets\",\n",
    "    \"A15\": \"total_liabilities_gross_profit_depreciation_ratio\",\n",
    "    \"A16\": \"gross_profit_depreciation_total_liabilities\",\n",
    "    \"A17\": \"total_assets_total_liabilities\",\n",
    "    \"A18\": \"gross_profit_total_assets\",\n",
    "    \"A19\": \"gross_profit_sales\",\n",
    "    \"A20\": \"inventory_sales_ratio\",\n",
    "    \"A21\": \"sales_n_sales_n_minus_1\",\n",
    "    \"A22\": \"profit_operating_activities_total_assets\",\n",
    "    \"A23\": \"net_profit_sales\",\n",
    "    \"A24\": \"gross_profit_3_years_total_assets\",\n",
    "    \"A25\": \"equity_share_capital_total_assets\",\n",
    "    \"A26\": \"net_profit_depreciation_total_liabilities\",\n",
    "    \"A27\": \"profit_operating_activities_financial_expenses\",\n",
    "    \"A28\": \"working_capital_fixed_assets\",\n",
    "    \"A29\": \"logarithm_total_assets\",\n",
    "    \"A30\": \"total_liabilities_cash_sales_ratio\",\n",
    "    \"A31\": \"gross_profit_interest_sales\",\n",
    "    \"A32\": \"current_liabilities_cost_products_sold_ratio\",\n",
    "    \"A33\": \"operating_expenses_short_term_liabilities\",\n",
    "    \"A34\": \"operating_expenses_total_liabilities\",\n",
    "    \"A35\": \"profit_sales_total_assets\",\n",
    "    \"A36\": \"total_sales_total_assets\",\n",
    "    \"A37\": \"current_assets_inventories_long_term_liabilities\",\n",
    "    \"A38\": \"constant_capital_total_assets\",\n",
    "    \"A39\": \"profit_sales_sales_ratio\",\n",
    "    \"A40\": \"current_assets_inventory_receivables_short_term_liabilities\",\n",
    "    \"A41\": \"total_liabilities_operating_profit_depreciation_ratio\",\n",
    "    \"A42\": \"profit_operating_activities_sales\",\n",
    "    \"A43\": \"rotation_receivables_inventory_turnover_days\",\n",
    "    \"A44\": \"receivables_sales_ratio\",\n",
    "    \"A45\": \"net_profit_inventory\",\n",
    "    \"A46\": \"current_assets_inventory_short_term_liabilities\",\n",
    "    \"A47\": \"inventory_cost_products_sold_ratio\",\n",
    "    \"A48\": \"EBITDA_total_assets\",\n",
    "    \"A49\": \"EBITDA_sales\",\n",
    "    \"A50\": \"current_assets_total_liabilities\",\n",
    "    \"A51\": \"short_term_liabilities_total_assets\",\n",
    "    \"A52\": \"short_term_liabilities_cost_products_sold_ratio\",\n",
    "    \"A53\": \"equity_fixed_assets\",\n",
    "    \"A54\": \"constant_capital_fixed_assets\",\n",
    "    \"A55\": \"working_capital\",\n",
    "    \"A56\": \"sales_cost_products_sold_sales_ratio\",\n",
    "    \"A57\": \"current_assets_inventory_short_term_liabilities_sales_gross_profit_depreciation_ratio\",\n",
    "    \"A58\": \"total_costs_total_sales\",\n",
    "    \"A59\": \"long_term_liabilities_equity\",\n",
    "    \"A60\": \"sales_inventory\",\n",
    "    \"A61\": \"sales_receivables\",\n",
    "    \"A62\": \"short_term_liabilities_sales_ratio\",\n",
    "    \"A63\": \"sales_short_term_liabilities\",\n",
    "    \"A64\": \"sales_fixed_assets\"\n",
    "}\n",
    "\n",
    "bancrupcy_df.rename(columns=column_names, inplace=True)\n",
    "bancrupcy_df.head()\n"
   ]
  },
  {
   "cell_type": "code",
   "execution_count": null,
   "id": "58de822e",
   "metadata": {
    "vscode": {
     "languageId": "plaintext"
    }
   },
   "outputs": [],
   "source": [
    "# ------------------------------------------------------\n",
    "# Dataset preparation — starting after the original loading\n",
    "# ------------------------------------------------------\n",
    "\n",
    "# Make a copy to avoid touching the original loaded dataset\n",
    "bankruptcy_df_base = bancrupcy_df.copy()\n",
    "\n",
    "# Separate features and target\n",
    "X = bankruptcy_df_base.drop(columns=['class', 'year'])  # Drop 'class' and 'Year' for now\n",
    "y = bankruptcy_df_base['class']"
   ]
  },
  {
   "cell_type": "markdown",
   "id": "5fef963e",
   "metadata": {},
   "source": [
    "#### Insert further preprocessing and save final dataset as \"Data/polish_bankruptcy.csv\" (also on Github)"
   ]
  },
  {
   "cell_type": "markdown",
   "id": "aa98b32f",
   "metadata": {},
   "source": [
    "## Dataset 2 ?? Julia"
   ]
  },
  {
   "cell_type": "markdown",
   "id": "9018847e",
   "metadata": {},
   "source": [
    "### Same as above pls preprocess, save as \"data/SECOND_DATASET_NAME.csv\" and upload to gh"
   ]
  }
 ],
 "metadata": {
  "language_info": {
   "name": "python"
  }
 },
 "nbformat": 4,
 "nbformat_minor": 5
}
