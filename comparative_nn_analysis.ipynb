{
 "cells": [
  {
   "cell_type": "markdown",
   "id": "8770dafd",
   "metadata": {},
   "source": [
    "# Exercise 2"
   ]
  },
  {
   "cell_type": "markdown",
   "id": "ac560308",
   "metadata": {},
   "source": [
    "This notebook serves as a comprehensive solution to Exercise 2 of the VU Machine Learning course (Summer Semester 2025). The primary objective of this exercise is to deepen our understanding of Neural Networks (NNs) by implementing them using various approaches and conducting a thorough comparative analysis. All approaches are applied to the [Polish Bankruptcies Dataset](https://archive.ics.uci.edu/dataset/365/polish+companies+bankruptcy+data) as well as the [Second Dataset]().\n",
    "\n",
    "Throughout this notebook, for each of the above mentioned datasets, we will:\n",
    "\n",
    "- Implement a Neural Network framework from scratch: The architecture, backward and forward propagation and the entire network are built within the **nn** folder in this repo.\n",
    "\n",
    "- Implement the same Neural Network using PyTorch: We leverage PyTorch's standard functions to create an equivalent NN, showcasing a more conventional approach to NN development.\n",
    "\n",
    "- Utilize an LLM tool for NN implementation: Using ChatGPT 4o to generate another version of the NN from scratch, allowing for a direct comparison of code structure, design choices, and potential differences with our custom implementation.\n",
    "\n",
    "- Investigate and experiment with NN configurations: We explore various hyperparameters, including different activation functions, numbers of layers, and nodes per layer, using a grid search approach to find optimal values.\n",
    "\n",
    "- Analyze performance and resource usage: We calculate the total number of learnable parameters and the virtual RAM consumed by our instantiated NNs.\n",
    "\n",
    "- Conduct a detailed comparison: The core of this notebook involves comparing the performance, efficiency, and implementation details across our custom-built NN, the PyTorch version, and the LLM-generated code. We discuss findings related to classification performance metrics and the insights gained from each implementation method."
   ]
  },
  {
   "cell_type": "markdown",
   "id": "0438c519",
   "metadata": {},
   "source": [
    "### Setup and Imports"
   ]
  },
  {
   "cell_type": "code",
   "execution_count": 1,
   "id": "7bc1d533",
   "metadata": {},
   "outputs": [],
   "source": [
    "import pandas as pd\n",
    "import numpy as np\n",
    "\n",
    "from nn_from_scratch.nn import NN\n",
    "from nn_from_scratch.layer import Layer\n",
    "from nn_from_scratch.functions import *"
   ]
  },
  {
   "cell_type": "markdown",
   "id": "1699d0bb",
   "metadata": {},
   "source": [
    "## MNIST Dataset (How to use the custom NN)"
   ]
  },
  {
   "cell_type": "code",
   "execution_count": 2,
   "id": "64a33f17",
   "metadata": {},
   "outputs": [],
   "source": [
    "mnist = pd.read_csv(\"train.csv\")\n",
    "split = int(len(mnist)*0.8)\n",
    "\n",
    "y_train, y_test = mnist[\"label\"].values[:split].astype(int), mnist[\"label\"].values[split:].astype(int)\n",
    "X_train, X_test = mnist.drop(\"label\", axis=1).values[:split] / 255.0, mnist.drop(\"label\", axis=1).values[split:] / 255.0\n",
    "\n",
    "y_train_encoded = one_hot_encoding(y_train, 10)\n",
    "y_test_encoded = one_hot_encoding(y_test, 10)"
   ]
  },
  {
   "cell_type": "code",
   "execution_count": null,
   "id": "df0f0f56",
   "metadata": {},
   "outputs": [
    {
     "name": "stderr",
     "output_type": "stream",
     "text": [
      "  5%|▌         | 1/20 [00:03<01:09,  3.65s/it]"
     ]
    },
    {
     "name": "stdout",
     "output_type": "stream",
     "text": [
      "Epoch 1/20 ============ Loss: 2.302\n"
     ]
    },
    {
     "name": "stderr",
     "output_type": "stream",
     "text": [
      " 10%|█         | 2/20 [00:06<00:56,  3.14s/it]"
     ]
    },
    {
     "name": "stdout",
     "output_type": "stream",
     "text": [
      "Epoch 2/20 ============ Loss: 2.301\n"
     ]
    },
    {
     "name": "stderr",
     "output_type": "stream",
     "text": [
      " 15%|█▌        | 3/20 [00:09<00:49,  2.89s/it]"
     ]
    },
    {
     "name": "stdout",
     "output_type": "stream",
     "text": [
      "Epoch 3/20 ============ Loss: 2.300\n"
     ]
    },
    {
     "name": "stderr",
     "output_type": "stream",
     "text": [
      " 20%|██        | 4/20 [00:11<00:45,  2.82s/it]"
     ]
    },
    {
     "name": "stdout",
     "output_type": "stream",
     "text": [
      "Epoch 4/20 ============ Loss: 2.297\n"
     ]
    },
    {
     "name": "stderr",
     "output_type": "stream",
     "text": [
      " 25%|██▌       | 5/20 [00:14<00:42,  2.82s/it]"
     ]
    },
    {
     "name": "stdout",
     "output_type": "stream",
     "text": [
      "Epoch 5/20 ============ Loss: 2.285\n"
     ]
    },
    {
     "name": "stderr",
     "output_type": "stream",
     "text": [
      " 30%|███       | 6/20 [00:17<00:41,  2.98s/it]"
     ]
    },
    {
     "name": "stdout",
     "output_type": "stream",
     "text": [
      "Epoch 6/20 ============ Loss: 2.170\n"
     ]
    },
    {
     "name": "stderr",
     "output_type": "stream",
     "text": [
      " 35%|███▌      | 7/20 [00:20<00:38,  2.94s/it]"
     ]
    },
    {
     "name": "stdout",
     "output_type": "stream",
     "text": [
      "Epoch 7/20 ============ Loss: 1.673\n"
     ]
    },
    {
     "name": "stderr",
     "output_type": "stream",
     "text": [
      " 40%|████      | 8/20 [00:24<00:37,  3.16s/it]"
     ]
    },
    {
     "name": "stdout",
     "output_type": "stream",
     "text": [
      "Epoch 8/20 ============ Loss: 1.022\n"
     ]
    },
    {
     "name": "stderr",
     "output_type": "stream",
     "text": [
      " 45%|████▌     | 9/20 [00:28<00:36,  3.33s/it]"
     ]
    },
    {
     "name": "stdout",
     "output_type": "stream",
     "text": [
      "Epoch 9/20 ============ Loss: 0.761\n"
     ]
    },
    {
     "name": "stderr",
     "output_type": "stream",
     "text": [
      " 50%|█████     | 10/20 [00:33<00:39,  3.96s/it]"
     ]
    },
    {
     "name": "stdout",
     "output_type": "stream",
     "text": [
      "Epoch 10/20 ============ Loss: 0.671\n"
     ]
    },
    {
     "name": "stderr",
     "output_type": "stream",
     "text": [
      " 55%|█████▌    | 11/20 [00:35<00:31,  3.49s/it]"
     ]
    },
    {
     "name": "stdout",
     "output_type": "stream",
     "text": [
      "Epoch 11/20 ============ Loss: 0.623\n"
     ]
    },
    {
     "name": "stderr",
     "output_type": "stream",
     "text": [
      " 60%|██████    | 12/20 [00:38<00:26,  3.28s/it]"
     ]
    },
    {
     "name": "stdout",
     "output_type": "stream",
     "text": [
      "Epoch 12/20 ============ Loss: 0.586\n"
     ]
    },
    {
     "name": "stderr",
     "output_type": "stream",
     "text": [
      " 65%|██████▌   | 13/20 [00:41<00:22,  3.17s/it]"
     ]
    },
    {
     "name": "stdout",
     "output_type": "stream",
     "text": [
      "Epoch 13/20 ============ Loss: 0.551\n"
     ]
    },
    {
     "name": "stderr",
     "output_type": "stream",
     "text": [
      " 70%|███████   | 14/20 [00:44<00:18,  3.04s/it]"
     ]
    },
    {
     "name": "stdout",
     "output_type": "stream",
     "text": [
      "Epoch 14/20 ============ Loss: 0.512\n"
     ]
    },
    {
     "name": "stderr",
     "output_type": "stream",
     "text": [
      " 75%|███████▌  | 15/20 [00:47<00:15,  3.04s/it]"
     ]
    },
    {
     "name": "stdout",
     "output_type": "stream",
     "text": [
      "Epoch 15/20 ============ Loss: 0.472\n"
     ]
    },
    {
     "name": "stderr",
     "output_type": "stream",
     "text": [
      " 80%|████████  | 16/20 [00:49<00:11,  2.89s/it]"
     ]
    },
    {
     "name": "stdout",
     "output_type": "stream",
     "text": [
      "Epoch 16/20 ============ Loss: 0.439\n"
     ]
    },
    {
     "name": "stderr",
     "output_type": "stream",
     "text": [
      " 85%|████████▌ | 17/20 [00:54<00:09,  3.27s/it]"
     ]
    },
    {
     "name": "stdout",
     "output_type": "stream",
     "text": [
      "Epoch 17/20 ============ Loss: 0.414\n"
     ]
    },
    {
     "name": "stderr",
     "output_type": "stream",
     "text": [
      " 90%|█████████ | 18/20 [00:56<00:06,  3.12s/it]"
     ]
    },
    {
     "name": "stdout",
     "output_type": "stream",
     "text": [
      "Epoch 18/20 ============ Loss: 0.392\n"
     ]
    },
    {
     "name": "stderr",
     "output_type": "stream",
     "text": [
      " 95%|█████████▌| 19/20 [01:00<00:03,  3.28s/it]"
     ]
    },
    {
     "name": "stdout",
     "output_type": "stream",
     "text": [
      "Epoch 19/20 ============ Loss: 0.374\n"
     ]
    },
    {
     "name": "stderr",
     "output_type": "stream",
     "text": [
      "100%|██████████| 20/20 [01:03<00:00,  3.18s/it]"
     ]
    },
    {
     "name": "stdout",
     "output_type": "stream",
     "text": [
      "Epoch 20/20 ============ Loss: 0.357\n"
     ]
    },
    {
     "name": "stderr",
     "output_type": "stream",
     "text": [
      "\n"
     ]
    },
    {
     "data": {
      "image/png": "[encoded data removed]",
      "text/plain": [
       "<Figure size 640x480 with 1 Axes>"
      ]
     },
     "metadata": {},
     "output_type": "display_data"
    }
   ],
   "source": [
    "layers = [\n",
    "    Layer(input_size=X_train.shape[1], output_size=128, activation_function='relu'),\n",
    "    Layer(input_size=128, output_size=64, activation_function='relu'),\n",
    "    Layer(input_size=64, output_size=10, activation_function='softmax'),\n",
    "]\n",
    "\n",
    "# Initialize the neural network\n",
    "nn = NN(layers=layers, num_classes = 10, activation_function='softmax', loss_function='cross_entropy')\n",
    "\n",
    "# Train the network\n",
    "epochs = 20\n",
    "batch_size = 64\n",
    "learning_rate = 0.01\n",
    "nn.train(\n",
    "    X_train, \n",
    "    y_train_encoded, \n",
    "    epochs=epochs, \n",
    "    batch_size=batch_size, \n",
    "    learning_rate=learning_rate, \n",
    "    verbose=True, \n",
    "    visualize=True\n",
    "    )"
   ]
  },
  {
   "cell_type": "code",
   "execution_count": 10,
   "id": "702ac350",
   "metadata": {},
   "outputs": [
    {
     "data": {
      "text/plain": [
       "{'loss': np.float64(0.35095152446038785),\n",
       " 'accuracy': np.float64(0.8966666666666666),\n",
       " 'precision': np.float64(0.8948768294891163),\n",
       " 'recall': np.float64(0.8942699458684483),\n",
       " 'f1_score': np.float64(0.8942021684325907)}"
      ]
     },
     "execution_count": 10,
     "metadata": {},
     "output_type": "execute_result"
    }
   ],
   "source": [
    "nn.evaluate(X_test, y_test_encoded)"
   ]
  },
  {
   "cell_type": "markdown",
   "id": "6282b702",
   "metadata": {},
   "source": [
    "## Polish Bankruptcy Dataset"
   ]
  },
  {
   "cell_type": "code",
   "execution_count": 11,
   "id": "2639b4e3",
   "metadata": {},
   "outputs": [],
   "source": [
    "X_train = pd.read_csv('data/bankruptcy_train_features.csv').values\n",
    "X_test = pd.read_csv('data/bankruptcy_test_features.csv').values\n",
    "y_train = pd.read_csv('data/bankruptcy_train_target.csv').values\n",
    "y_test = pd.read_csv('data/bankruptcy_test_target.csv').values"
   ]
  },
  {
   "cell_type": "markdown",
   "id": "85f42f7d",
   "metadata": {},
   "source": [
    "### Analytics, Visualizations and Insights"
   ]
  },
  {
   "cell_type": "code",
   "execution_count": 12,
   "id": "7dda117b",
   "metadata": {},
   "outputs": [
    {
     "data": {
      "text/plain": [
       "((array([0, 1]), array([33558,  1166])), (array([0, 1]), array([7756,  925])))"
      ]
     },
     "execution_count": 12,
     "metadata": {},
     "output_type": "execute_result"
    }
   ],
   "source": [
    "np.unique(y_train, return_counts=True), np.unique(y_test, return_counts=True)"
   ]
  },
  {
   "cell_type": "markdown",
   "id": "1b0ead08",
   "metadata": {},
   "source": [
    "### Custom NN Modeling and Evaluation"
   ]
  },
  {
   "cell_type": "code",
   "execution_count": 20,
   "id": "9c213c55",
   "metadata": {},
   "outputs": [
    {
     "name": "stderr",
     "output_type": "stream",
     "text": [
      " 20%|██        | 2/10 [00:00<00:00,  8.82it/s]"
     ]
    },
    {
     "name": "stdout",
     "output_type": "stream",
     "text": [
      "Epoch 1/10 ============ Loss: nan\n",
      "Epoch 2/10 ============ Loss: nan\n"
     ]
    },
    {
     "name": "stderr",
     "output_type": "stream",
     "text": [
      " 40%|████      | 4/10 [00:00<00:00,  7.47it/s]"
     ]
    },
    {
     "name": "stdout",
     "output_type": "stream",
     "text": [
      "Epoch 3/10 ============ Loss: nan\n",
      "Epoch 4/10 ============ Loss: nan\n"
     ]
    },
    {
     "name": "stderr",
     "output_type": "stream",
     "text": [
      " 60%|██████    | 6/10 [00:00<00:00,  8.11it/s]"
     ]
    },
    {
     "name": "stdout",
     "output_type": "stream",
     "text": [
      "Epoch 5/10 ============ Loss: nan\n",
      "Epoch 6/10 ============ Loss: nan\n"
     ]
    },
    {
     "name": "stderr",
     "output_type": "stream",
     "text": [
      " 80%|████████  | 8/10 [00:00<00:00,  8.95it/s]"
     ]
    },
    {
     "name": "stdout",
     "output_type": "stream",
     "text": [
      "Epoch 7/10 ============ Loss: nan\n",
      "Epoch 8/10 ============ Loss: nan\n"
     ]
    },
    {
     "name": "stderr",
     "output_type": "stream",
     "text": [
      "100%|██████████| 10/10 [00:01<00:00,  8.47it/s]"
     ]
    },
    {
     "name": "stdout",
     "output_type": "stream",
     "text": [
      "Epoch 9/10 ============ Loss: nan\n",
      "Epoch 10/10 ============ Loss: nan\n"
     ]
    },
    {
     "name": "stderr",
     "output_type": "stream",
     "text": [
      "\n"
     ]
    },
    {
     "data": {
      "image/png": "[encoded data removed]",
      "text/plain": [
       "<Figure size 640x480 with 1 Axes>"
      ]
     },
     "metadata": {},
     "output_type": "display_data"
    }
   ],
   "source": [
    "layers = [\n",
    "    Layer(input_size=X_train.shape[1], output_size=10, activation_function='relu'),\n",
    "    Layer(input_size=10, output_size=4, activation_function='relu'),\n",
    "    Layer(input_size=4, output_size=1, activation_function='relu'),\n",
    "]\n",
    "\n",
    "# Initialize the neural network\n",
    "nn = NN(layers=layers, num_classes = 1, activation_function='relu', loss_function='mean_squared_error')\n",
    "\n",
    "# Train the network\n",
    "epochs = 10\n",
    "batch_size = 1000\n",
    "learning_rate = 0.001\n",
    "nn.train(\n",
    "    X_train, \n",
    "    y_train, \n",
    "    epochs=epochs, \n",
    "    batch_size=batch_size, \n",
    "    learning_rate=learning_rate, \n",
    "    verbose=True, \n",
    "    visualize=True\n",
    "    )"
   ]
  },
  {
   "cell_type": "code",
   "execution_count": 16,
   "id": "5a812f69",
   "metadata": {},
   "outputs": [
    {
     "data": {
      "text/plain": [
       "{'loss': np.float64(nan),\n",
       " 'accuracy': np.float64(1.0),\n",
       " 'precision': np.float64(1.0),\n",
       " 'recall': np.float64(1.0),\n",
       " 'f1_score': np.float64(1.0)}"
      ]
     },
     "execution_count": 16,
     "metadata": {},
     "output_type": "execute_result"
    }
   ],
   "source": [
    "nn.evaluate(X_test, y_test)"
   ]
  },
  {
   "cell_type": "markdown",
   "id": "e61e85bd",
   "metadata": {},
   "source": [
    "### Pytorch Implementation"
   ]
  },
  {
   "cell_type": "code",
   "execution_count": null,
   "id": "34dc2c79",
   "metadata": {},
   "outputs": [],
   "source": []
  },
  {
   "cell_type": "markdown",
   "id": "3f0db885",
   "metadata": {},
   "source": [
    "### LLM Developed NN Implementation"
   ]
  },
  {
   "cell_type": "code",
   "execution_count": null,
   "id": "92730b9b",
   "metadata": {},
   "outputs": [],
   "source": []
  },
  {
   "cell_type": "markdown",
   "id": "a92cf547",
   "metadata": {},
   "source": [
    "### Comparison Across the Three Implemtations"
   ]
  },
  {
   "cell_type": "code",
   "execution_count": null,
   "id": "61fd6ee1",
   "metadata": {},
   "outputs": [],
   "source": []
  },
  {
   "cell_type": "markdown",
   "id": "f47dcbcf",
   "metadata": {},
   "source": [
    "## 2nd Dataset"
   ]
  },
  {
   "cell_type": "markdown",
   "id": "46d63b5f",
   "metadata": {},
   "source": [
    "### Analytics, Visualization and Insights"
   ]
  },
  {
   "cell_type": "code",
   "execution_count": null,
   "id": "a0585814",
   "metadata": {},
   "outputs": [],
   "source": []
  },
  {
   "cell_type": "markdown",
   "id": "83a73802",
   "metadata": {},
   "source": [
    "### Custom NN Implementation"
   ]
  },
  {
   "cell_type": "code",
   "execution_count": null,
   "id": "4992f4ee",
   "metadata": {},
   "outputs": [],
   "source": []
  },
  {
   "cell_type": "markdown",
   "id": "56eb576a",
   "metadata": {},
   "source": [
    "### Pytorch Implementation"
   ]
  },
  {
   "cell_type": "code",
   "execution_count": null,
   "id": "f7a09ba3",
   "metadata": {},
   "outputs": [],
   "source": []
  },
  {
   "cell_type": "markdown",
   "id": "4d4279f1",
   "metadata": {},
   "source": [
    "### LLM Developed NN Implementation"
   ]
  },
  {
   "cell_type": "code",
   "execution_count": null,
   "id": "036590a1",
   "metadata": {},
   "outputs": [],
   "source": []
  },
  {
   "cell_type": "markdown",
   "id": "dc4a626a",
   "metadata": {},
   "source": [
    "### Comparison Across the Three Implemtations"
   ]
  },
  {
   "cell_type": "code",
   "execution_count": null,
   "id": "7a1b6c07",
   "metadata": {},
   "outputs": [],
   "source": []
  }
 ],
 "metadata": {
  "kernelspec": {
   "display_name": "Python 3",
   "language": "python",
   "name": "python3"
  },
  "language_info": {
   "codemirror_mode": {
    "name": "ipython",
    "version": 3
   },
   "file_extension": ".py",
   "mimetype": "text/x-python",
   "name": "python",
   "nbconvert_exporter": "python",
   "pygments_lexer": "ipython3",
   "version": "3.9.6"
  }
 },
 "nbformat": 4,
 "nbformat_minor": 5
}
