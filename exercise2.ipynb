{
 "cells": [
  {
   "cell_type": "markdown",
   "id": "8770dafd",
   "metadata": {},
   "source": [
    "# Exercise 2"
   ]
  },
  {
   "cell_type": "markdown",
   "id": "ac560308",
   "metadata": {},
   "source": [
    "This notebook serves as a comprehensive solution to Exercise 2 of the VU Machine Learning course (Summer Semester 2025). The primary objective of this exercise is to deepen our understanding of Neural Networks (NNs) by implementing them using various approaches and conducting a thorough comparative analysis. All approaches are applied to the [Polish Bankruptcies Dataset](https://archive.ics.uci.edu/dataset/365/polish+companies+bankruptcy+data) as well as the [Second Dataset]().\n",
    "\n",
    "Throughout this notebook, we will:\n",
    "\n",
    "- Implement a Neural Network framework from scratch: The architecture, backward and forward propagation and the entire network are built within the **nn** folder in this repo.\n",
    "\n",
    "- Implement the same Neural Network using PyTorch: We leverage PyTorch's standard functions to create an equivalent NN, showcasing a more conventional approach to NN development.\n",
    "\n",
    "- Utilize an LLM tool for NN implementation: Using ChatGPT 4o to generate another version of the NN from scratch, allowing for a direct comparison of code structure, design choices, and potential differences with our custom implementation.\n",
    "\n",
    "- Investigate and experiment with NN configurations: We explore various hyperparameters, including different activation functions, numbers of layers, and nodes per layer, using a grid search approach to find optimal values.\n",
    "\n",
    "- Analyze performance and resource usage: We calculate the total number of learnable parameters and the virtual RAM consumed by our instantiated NNs.\n",
    "\n",
    "- Conduct a detailed comparison: The core of this notebook involves comparing the performance, efficiency, and implementation details across our custom-built NN, the PyTorch version, and the LLM-generated code. We discuss findings related to classification performance metrics and the insights gained from each implementation method."
   ]
  },
  {
   "cell_type": "markdown",
   "id": "0438c519",
   "metadata": {},
   "source": [
    "### Setup and Imports"
   ]
  },
  {
   "cell_type": "code",
   "execution_count": 6,
   "id": "ff3dce91",
   "metadata": {},
   "outputs": [
    {
     "name": "stdout",
     "output_type": "stream",
     "text": [
      "\u001b[33mWARNING: You are using pip version 21.2.4; however, version 25.1.1 is available.\n",
      "You should consider upgrading via the '/Applications/Xcode.app/Contents/Developer/usr/bin/python3 -m pip install --upgrade pip' command.\u001b[0m\n",
      "Note: you may need to restart the kernel to use updated packages.\n"
     ]
    }
   ],
   "source": [
    "%pip install -q ucimlrepo"
   ]
  },
  {
   "cell_type": "code",
   "execution_count": 1,
   "id": "7bc1d533",
   "metadata": {},
   "outputs": [],
   "source": [
    "import pandas as pd\n",
    "import numpy as np\n",
    "from scipy.io import arff\n",
    "import requests\n",
    "import io\n",
    "from ucimlrepo import fetch_ucirepo\n",
    "\n",
    "from  nn.nn import NN\n",
    "from nn.layer import Layer\n",
    "from nn.functions import *"
   ]
  },
  {
   "cell_type": "markdown",
   "id": "1699d0bb",
   "metadata": {},
   "source": [
    "## MNIST Dataset"
   ]
  },
  {
   "cell_type": "code",
   "execution_count": 2,
   "id": "64a33f17",
   "metadata": {},
   "outputs": [],
   "source": [
    "mnist = pd.read_csv(\"train.csv\")\n",
    "split = int(len(mnist)*0.8)\n",
    "\n",
    "y_train, y_test = mnist[\"label\"].values[:split].astype(int), mnist[\"label\"].values[split:].astype(int)\n",
    "X_train, X_test = mnist.drop(\"label\", axis=1).values[:split], mnist.drop(\"label\", axis=1).values[split:]\n",
    "\n",
    "y_train_encoded = one_hot_encoding(y_train, 10)\n",
    "y_test_encoded = one_hot_encoding(y_test, 10)"
   ]
  },
  {
   "cell_type": "code",
   "execution_count": 3,
   "id": "df0f0f56",
   "metadata": {},
   "outputs": [
    {
     "name": "stderr",
     "output_type": "stream",
     "text": [
      " 20%|██        | 1/5 [00:02<00:09,  2.38s/it]"
     ]
    },
    {
     "name": "stdout",
     "output_type": "stream",
     "text": [
      "Epoch 1/5 ============ Loss: 0.050\n"
     ]
    },
    {
     "name": "stderr",
     "output_type": "stream",
     "text": [
      " 40%|████      | 2/5 [00:04<00:06,  2.32s/it]"
     ]
    },
    {
     "name": "stdout",
     "output_type": "stream",
     "text": [
      "Epoch 2/5 ============ Loss: 0.038\n"
     ]
    },
    {
     "name": "stderr",
     "output_type": "stream",
     "text": [
      " 60%|██████    | 3/5 [00:06<00:03,  1.99s/it]"
     ]
    },
    {
     "name": "stdout",
     "output_type": "stream",
     "text": [
      "Epoch 3/5 ============ Loss: 0.037\n"
     ]
    },
    {
     "name": "stderr",
     "output_type": "stream",
     "text": [
      " 80%|████████  | 4/5 [00:08<00:01,  1.97s/it]"
     ]
    },
    {
     "name": "stdout",
     "output_type": "stream",
     "text": [
      "Epoch 4/5 ============ Loss: 0.035\n"
     ]
    },
    {
     "name": "stderr",
     "output_type": "stream",
     "text": [
      "100%|██████████| 5/5 [00:10<00:00,  2.01s/it]"
     ]
    },
    {
     "name": "stdout",
     "output_type": "stream",
     "text": [
      "Epoch 5/5 ============ Loss: 0.034\n"
     ]
    },
    {
     "name": "stderr",
     "output_type": "stream",
     "text": [
      "\n"
     ]
    }
   ],
   "source": [
    "layers = [\n",
    "    Layer(input_size=X_train.shape[1], output_size=10, activation_function='softmax'),\n",
    "    # Layer(input_size=10, output_size=10, activation_function='softmax'),\n",
    "]\n",
    "\n",
    "# Initialize the neural network\n",
    "nn = NN(layers=layers, num_classes = 10, activation_function='softmax', loss_function='cross_entropy')\n",
    "\n",
    "# Train the network\n",
    "epochs = 5\n",
    "nn.train(X_train, y_train_encoded, epochs=epochs, batch_size=100, learning_rate=0.1, verbose=True, visualize=True)"
   ]
  },
  {
   "cell_type": "code",
   "execution_count": 4,
   "id": "702ac350",
   "metadata": {},
   "outputs": [
    {
     "data": {
      "text/plain": [
       "{'loss': np.float64(2.5090297915988944),\n",
       " 'accuracy': np.float64(0.9091666666666667),\n",
       " 'precision': np.float64(0.9085492565199148),\n",
       " 'recall': np.float64(0.908163941302714),\n",
       " 'f1_score': np.float64(0.9078221584260732)}"
      ]
     },
     "execution_count": 4,
     "metadata": {},
     "output_type": "execute_result"
    }
   ],
   "source": [
    "nn.evaluate(X_test, y_test_encoded)"
   ]
  },
  {
   "cell_type": "markdown",
   "id": "6282b702",
   "metadata": {},
   "source": [
    "## Polish Bankruptcy Dataset"
   ]
  },
  {
   "cell_type": "markdown",
   "id": "85f42f7d",
   "metadata": {},
   "source": [
    "### Preprocessing Steps"
   ]
  },
  {
   "cell_type": "code",
   "execution_count": 5,
   "id": "25c67af8",
   "metadata": {},
   "outputs": [
    {
     "name": "stdout",
     "output_type": "stream",
     "text": [
      "(43405, 66)\n",
      "Index(['year', 'A1', 'A2', 'A3', 'A4', 'A5', 'A6', 'A7', 'A8', 'A9', 'A10',\n",
      "       'A11', 'A12', 'A13', 'A14', 'A15', 'A16', 'A17', 'A18', 'A19', 'A20',\n",
      "       'A21', 'A22', 'A23', 'A24', 'A25', 'A26', 'A27', 'A28', 'A29', 'A30',\n",
      "       'A31', 'A32', 'A33', 'A34', 'A35', 'A36', 'A37', 'A38', 'A39', 'A40',\n",
      "       'A41', 'A42', 'A43', 'A44', 'A45', 'A46', 'A47', 'A48', 'A49', 'A50',\n",
      "       'A51', 'A52', 'A53', 'A54', 'A55', 'A56', 'A57', 'A58', 'A59', 'A60',\n",
      "       'A61', 'A62', 'A63', 'A64', 'class'],\n",
      "      dtype='object')\n",
      "   year        A1       A2       A3      A4       A5       A6        A7  \\\n",
      "0     1  0.200550  0.37951  0.39641  2.0472  32.3510  0.38825  0.249760   \n",
      "1     1  0.209120  0.49988  0.47225  1.9447  14.7860  0.00000  0.258340   \n",
      "2     1  0.248660  0.69592  0.26713  1.5548  -1.1523  0.00000  0.309060   \n",
      "3     1  0.081483  0.30734  0.45879  2.4928  51.9520  0.14988  0.092704   \n",
      "4     1  0.187320  0.61323  0.22960  1.4063  -7.3128  0.18732  0.187320   \n",
      "\n",
      "        A8      A9  ...       A56      A57      A58       A59     A60     A61  \\\n",
      "0  1.33050  1.1389  ...  0.121960  0.39718  0.87804  0.001924  8.4160  5.1372   \n",
      "1  0.99601  1.6996  ...  0.121300  0.42002  0.85300  0.000000  4.1486  3.2732   \n",
      "2  0.43695  1.3090  ...  0.241140  0.81774  0.76599  0.694840  4.9909  3.9510   \n",
      "3  1.86610  1.0571  ...  0.054015  0.14207  0.94598  0.000000  4.5746  3.6147   \n",
      "4  0.63070  1.1559  ...  0.134850  0.48431  0.86515  0.124440  6.3985  4.3158   \n",
      "\n",
      "       A62     A63      A64  class  \n",
      "0   82.658  4.4158   7.4277      0  \n",
      "1  107.350  3.4000  60.9870      0  \n",
      "2  134.270  2.7185   5.2078      0  \n",
      "3   86.435  4.2228   5.5497      0  \n",
      "4  127.210  2.8692   7.8980      0  \n",
      "\n",
      "[5 rows x 66 columns]\n"
     ]
    }
   ],
   "source": [
    "data = fetch_ucirepo(id=365)\n",
    "\n",
    "bancrupcy_df = data.data.original\n",
    "\n",
    "print(bancrupcy_df.shape)\n",
    "print(bancrupcy_df.columns)\n",
    "print(bancrupcy_df.head())"
   ]
  },
  {
   "cell_type": "code",
   "execution_count": 6,
   "id": "aa39006f",
   "metadata": {},
   "outputs": [
    {
     "data": {
      "text/html": [
       "<div>\n",
       "<style scoped>\n",
       "    .dataframe tbody tr th:only-of-type {\n",
       "        vertical-align: middle;\n",
       "    }\n",
       "\n",
       "    .dataframe tbody tr th {\n",
       "        vertical-align: top;\n",
       "    }\n",
       "\n",
       "    .dataframe thead th {\n",
       "        text-align: right;\n",
       "    }\n",
       "</style>\n",
       "<table border=\"1\" class=\"dataframe\">\n",
       "  <thead>\n",
       "    <tr style=\"text-align: right;\">\n",
       "      <th></th>\n",
       "      <th>year</th>\n",
       "      <th>net_profit_total_assets</th>\n",
       "      <th>total_liabilities_total_assets</th>\n",
       "      <th>working_capital_total_assets</th>\n",
       "      <th>current_assets_short_term_liabilities</th>\n",
       "      <th>cash_securities_receivables_short_term_liabilities_ratio</th>\n",
       "      <th>retained_earnings_total_assets</th>\n",
       "      <th>EBIT_total_assets</th>\n",
       "      <th>book_value_equity_total_liabilities</th>\n",
       "      <th>sales_total_assets</th>\n",
       "      <th>...</th>\n",
       "      <th>sales_cost_products_sold_sales_ratio</th>\n",
       "      <th>current_assets_inventory_short_term_liabilities_sales_gross_profit_depreciation_ratio</th>\n",
       "      <th>total_costs_total_sales</th>\n",
       "      <th>long_term_liabilities_equity</th>\n",
       "      <th>sales_inventory</th>\n",
       "      <th>sales_receivables</th>\n",
       "      <th>short_term_liabilities_sales_ratio</th>\n",
       "      <th>sales_short_term_liabilities</th>\n",
       "      <th>sales_fixed_assets</th>\n",
       "      <th>class</th>\n",
       "    </tr>\n",
       "  </thead>\n",
       "  <tbody>\n",
       "    <tr>\n",
       "      <th>0</th>\n",
       "      <td>1</td>\n",
       "      <td>0.200550</td>\n",
       "      <td>0.37951</td>\n",
       "      <td>0.39641</td>\n",
       "      <td>2.0472</td>\n",
       "      <td>32.3510</td>\n",
       "      <td>0.38825</td>\n",
       "      <td>0.249760</td>\n",
       "      <td>1.33050</td>\n",
       "      <td>1.1389</td>\n",
       "      <td>...</td>\n",
       "      <td>0.121960</td>\n",
       "      <td>0.39718</td>\n",
       "      <td>0.87804</td>\n",
       "      <td>0.001924</td>\n",
       "      <td>8.4160</td>\n",
       "      <td>5.1372</td>\n",
       "      <td>82.658</td>\n",
       "      <td>4.4158</td>\n",
       "      <td>7.4277</td>\n",
       "      <td>0</td>\n",
       "    </tr>\n",
       "    <tr>\n",
       "      <th>1</th>\n",
       "      <td>1</td>\n",
       "      <td>0.209120</td>\n",
       "      <td>0.49988</td>\n",
       "      <td>0.47225</td>\n",
       "      <td>1.9447</td>\n",
       "      <td>14.7860</td>\n",
       "      <td>0.00000</td>\n",
       "      <td>0.258340</td>\n",
       "      <td>0.99601</td>\n",
       "      <td>1.6996</td>\n",
       "      <td>...</td>\n",
       "      <td>0.121300</td>\n",
       "      <td>0.42002</td>\n",
       "      <td>0.85300</td>\n",
       "      <td>0.000000</td>\n",
       "      <td>4.1486</td>\n",
       "      <td>3.2732</td>\n",
       "      <td>107.350</td>\n",
       "      <td>3.4000</td>\n",
       "      <td>60.9870</td>\n",
       "      <td>0</td>\n",
       "    </tr>\n",
       "    <tr>\n",
       "      <th>2</th>\n",
       "      <td>1</td>\n",
       "      <td>0.248660</td>\n",
       "      <td>0.69592</td>\n",
       "      <td>0.26713</td>\n",
       "      <td>1.5548</td>\n",
       "      <td>-1.1523</td>\n",
       "      <td>0.00000</td>\n",
       "      <td>0.309060</td>\n",
       "      <td>0.43695</td>\n",
       "      <td>1.3090</td>\n",
       "      <td>...</td>\n",
       "      <td>0.241140</td>\n",
       "      <td>0.81774</td>\n",
       "      <td>0.76599</td>\n",
       "      <td>0.694840</td>\n",
       "      <td>4.9909</td>\n",
       "      <td>3.9510</td>\n",
       "      <td>134.270</td>\n",
       "      <td>2.7185</td>\n",
       "      <td>5.2078</td>\n",
       "      <td>0</td>\n",
       "    </tr>\n",
       "    <tr>\n",
       "      <th>3</th>\n",
       "      <td>1</td>\n",
       "      <td>0.081483</td>\n",
       "      <td>0.30734</td>\n",
       "      <td>0.45879</td>\n",
       "      <td>2.4928</td>\n",
       "      <td>51.9520</td>\n",
       "      <td>0.14988</td>\n",
       "      <td>0.092704</td>\n",
       "      <td>1.86610</td>\n",
       "      <td>1.0571</td>\n",
       "      <td>...</td>\n",
       "      <td>0.054015</td>\n",
       "      <td>0.14207</td>\n",
       "      <td>0.94598</td>\n",
       "      <td>0.000000</td>\n",
       "      <td>4.5746</td>\n",
       "      <td>3.6147</td>\n",
       "      <td>86.435</td>\n",
       "      <td>4.2228</td>\n",
       "      <td>5.5497</td>\n",
       "      <td>0</td>\n",
       "    </tr>\n",
       "    <tr>\n",
       "      <th>4</th>\n",
       "      <td>1</td>\n",
       "      <td>0.187320</td>\n",
       "      <td>0.61323</td>\n",
       "      <td>0.22960</td>\n",
       "      <td>1.4063</td>\n",
       "      <td>-7.3128</td>\n",
       "      <td>0.18732</td>\n",
       "      <td>0.187320</td>\n",
       "      <td>0.63070</td>\n",
       "      <td>1.1559</td>\n",
       "      <td>...</td>\n",
       "      <td>0.134850</td>\n",
       "      <td>0.48431</td>\n",
       "      <td>0.86515</td>\n",
       "      <td>0.124440</td>\n",
       "      <td>6.3985</td>\n",
       "      <td>4.3158</td>\n",
       "      <td>127.210</td>\n",
       "      <td>2.8692</td>\n",
       "      <td>7.8980</td>\n",
       "      <td>0</td>\n",
       "    </tr>\n",
       "  </tbody>\n",
       "</table>\n",
       "<p>5 rows × 66 columns</p>\n",
       "</div>"
      ],
      "text/plain": [
       "   year  net_profit_total_assets  total_liabilities_total_assets  \\\n",
       "0     1                 0.200550                         0.37951   \n",
       "1     1                 0.209120                         0.49988   \n",
       "2     1                 0.248660                         0.69592   \n",
       "3     1                 0.081483                         0.30734   \n",
       "4     1                 0.187320                         0.61323   \n",
       "\n",
       "   working_capital_total_assets  current_assets_short_term_liabilities  \\\n",
       "0                       0.39641                                 2.0472   \n",
       "1                       0.47225                                 1.9447   \n",
       "2                       0.26713                                 1.5548   \n",
       "3                       0.45879                                 2.4928   \n",
       "4                       0.22960                                 1.4063   \n",
       "\n",
       "   cash_securities_receivables_short_term_liabilities_ratio  \\\n",
       "0                                            32.3510          \n",
       "1                                            14.7860          \n",
       "2                                            -1.1523          \n",
       "3                                            51.9520          \n",
       "4                                            -7.3128          \n",
       "\n",
       "   retained_earnings_total_assets  EBIT_total_assets  \\\n",
       "0                         0.38825           0.249760   \n",
       "1                         0.00000           0.258340   \n",
       "2                         0.00000           0.309060   \n",
       "3                         0.14988           0.092704   \n",
       "4                         0.18732           0.187320   \n",
       "\n",
       "   book_value_equity_total_liabilities  sales_total_assets  ...  \\\n",
       "0                              1.33050              1.1389  ...   \n",
       "1                              0.99601              1.6996  ...   \n",
       "2                              0.43695              1.3090  ...   \n",
       "3                              1.86610              1.0571  ...   \n",
       "4                              0.63070              1.1559  ...   \n",
       "\n",
       "   sales_cost_products_sold_sales_ratio  \\\n",
       "0                              0.121960   \n",
       "1                              0.121300   \n",
       "2                              0.241140   \n",
       "3                              0.054015   \n",
       "4                              0.134850   \n",
       "\n",
       "   current_assets_inventory_short_term_liabilities_sales_gross_profit_depreciation_ratio  \\\n",
       "0                                            0.39718                                       \n",
       "1                                            0.42002                                       \n",
       "2                                            0.81774                                       \n",
       "3                                            0.14207                                       \n",
       "4                                            0.48431                                       \n",
       "\n",
       "   total_costs_total_sales  long_term_liabilities_equity  sales_inventory  \\\n",
       "0                  0.87804                      0.001924           8.4160   \n",
       "1                  0.85300                      0.000000           4.1486   \n",
       "2                  0.76599                      0.694840           4.9909   \n",
       "3                  0.94598                      0.000000           4.5746   \n",
       "4                  0.86515                      0.124440           6.3985   \n",
       "\n",
       "   sales_receivables  short_term_liabilities_sales_ratio  \\\n",
       "0             5.1372                              82.658   \n",
       "1             3.2732                             107.350   \n",
       "2             3.9510                             134.270   \n",
       "3             3.6147                              86.435   \n",
       "4             4.3158                             127.210   \n",
       "\n",
       "   sales_short_term_liabilities  sales_fixed_assets  class  \n",
       "0                        4.4158              7.4277      0  \n",
       "1                        3.4000             60.9870      0  \n",
       "2                        2.7185              5.2078      0  \n",
       "3                        4.2228              5.5497      0  \n",
       "4                        2.8692              7.8980      0  \n",
       "\n",
       "[5 rows x 66 columns]"
      ]
     },
     "execution_count": 6,
     "metadata": {},
     "output_type": "execute_result"
    }
   ],
   "source": [
    "column_names = {\n",
    "    \"A1\": \"net_profit_total_assets\",\n",
    "    \"A2\": \"total_liabilities_total_assets\",\n",
    "    \"A3\": \"working_capital_total_assets\",\n",
    "    \"A4\": \"current_assets_short_term_liabilities\",\n",
    "    \"A5\": \"cash_securities_receivables_short_term_liabilities_ratio\",\n",
    "    \"A6\": \"retained_earnings_total_assets\",\n",
    "    \"A7\": \"EBIT_total_assets\",\n",
    "    \"A8\": \"book_value_equity_total_liabilities\",\n",
    "    \"A9\": \"sales_total_assets\",\n",
    "    \"A10\": \"equity_total_assets\",\n",
    "    \"A11\": \"gross_profit_financial_expenses_total_assets\",\n",
    "    \"A12\": \"gross_profit_short_term_liabilities\",\n",
    "    \"A13\": \"gross_profit_depreciation_sales\",\n",
    "    \"A14\": \"gross_profit_interest_total_assets\",\n",
    "    \"A15\": \"total_liabilities_gross_profit_depreciation_ratio\",\n",
    "    \"A16\": \"gross_profit_depreciation_total_liabilities\",\n",
    "    \"A17\": \"total_assets_total_liabilities\",\n",
    "    \"A18\": \"gross_profit_total_assets\",\n",
    "    \"A19\": \"gross_profit_sales\",\n",
    "    \"A20\": \"inventory_sales_ratio\",\n",
    "    \"A21\": \"sales_n_sales_n_minus_1\",\n",
    "    \"A22\": \"profit_operating_activities_total_assets\",\n",
    "    \"A23\": \"net_profit_sales\",\n",
    "    \"A24\": \"gross_profit_3_years_total_assets\",\n",
    "    \"A25\": \"equity_share_capital_total_assets\",\n",
    "    \"A26\": \"net_profit_depreciation_total_liabilities\",\n",
    "    \"A27\": \"profit_operating_activities_financial_expenses\",\n",
    "    \"A28\": \"working_capital_fixed_assets\",\n",
    "    \"A29\": \"logarithm_total_assets\",\n",
    "    \"A30\": \"total_liabilities_cash_sales_ratio\",\n",
    "    \"A31\": \"gross_profit_interest_sales\",\n",
    "    \"A32\": \"current_liabilities_cost_products_sold_ratio\",\n",
    "    \"A33\": \"operating_expenses_short_term_liabilities\",\n",
    "    \"A34\": \"operating_expenses_total_liabilities\",\n",
    "    \"A35\": \"profit_sales_total_assets\",\n",
    "    \"A36\": \"total_sales_total_assets\",\n",
    "    \"A37\": \"current_assets_inventories_long_term_liabilities\",\n",
    "    \"A38\": \"constant_capital_total_assets\",\n",
    "    \"A39\": \"profit_sales_sales_ratio\",\n",
    "    \"A40\": \"current_assets_inventory_receivables_short_term_liabilities\",\n",
    "    \"A41\": \"total_liabilities_operating_profit_depreciation_ratio\",\n",
    "    \"A42\": \"profit_operating_activities_sales\",\n",
    "    \"A43\": \"rotation_receivables_inventory_turnover_days\",\n",
    "    \"A44\": \"receivables_sales_ratio\",\n",
    "    \"A45\": \"net_profit_inventory\",\n",
    "    \"A46\": \"current_assets_inventory_short_term_liabilities\",\n",
    "    \"A47\": \"inventory_cost_products_sold_ratio\",\n",
    "    \"A48\": \"EBITDA_total_assets\",\n",
    "    \"A49\": \"EBITDA_sales\",\n",
    "    \"A50\": \"current_assets_total_liabilities\",\n",
    "    \"A51\": \"short_term_liabilities_total_assets\",\n",
    "    \"A52\": \"short_term_liabilities_cost_products_sold_ratio\",\n",
    "    \"A53\": \"equity_fixed_assets\",\n",
    "    \"A54\": \"constant_capital_fixed_assets\",\n",
    "    \"A55\": \"working_capital\",\n",
    "    \"A56\": \"sales_cost_products_sold_sales_ratio\",\n",
    "    \"A57\": \"current_assets_inventory_short_term_liabilities_sales_gross_profit_depreciation_ratio\",\n",
    "    \"A58\": \"total_costs_total_sales\",\n",
    "    \"A59\": \"long_term_liabilities_equity\",\n",
    "    \"A60\": \"sales_inventory\",\n",
    "    \"A61\": \"sales_receivables\",\n",
    "    \"A62\": \"short_term_liabilities_sales_ratio\",\n",
    "    \"A63\": \"sales_short_term_liabilities\",\n",
    "    \"A64\": \"sales_fixed_assets\"\n",
    "}\n",
    "\n",
    "bancrupcy_df.rename(columns=column_names, inplace=True)\n",
    "bancrupcy_df.head()\n"
   ]
  },
  {
   "cell_type": "code",
   "execution_count": 7,
   "id": "3cca1172",
   "metadata": {},
   "outputs": [],
   "source": [
    "# ------------------------------------------------------\n",
    "# Dataset preparation — starting after the original loading\n",
    "# ------------------------------------------------------\n",
    "\n",
    "# Make a copy to avoid touching the original loaded dataset\n",
    "bankruptcy_df_base = bancrupcy_df.copy()\n",
    "\n",
    "# Separate features and target\n",
    "X = bankruptcy_df_base.drop(columns=['class', 'year'])  # Drop 'class' and 'Year' for now\n",
    "y = bankruptcy_df_base['class']"
   ]
  },
  {
   "cell_type": "markdown",
   "id": "1b0ead08",
   "metadata": {},
   "source": [
    "### NN Modeling and Evaluation"
   ]
  },
  {
   "cell_type": "code",
   "execution_count": 8,
   "id": "8c5c179b",
   "metadata": {},
   "outputs": [],
   "source": [
    "train_test_split_index = int(len(X) * 0.8)\n",
    "X_train = X[:train_test_split_index].values\n",
    "X_test = X[train_test_split_index:].values\n",
    "y_train = y[:train_test_split_index].values\n",
    "y_test = y[train_test_split_index:].values\n",
    "y_train_encoded = one_hot_encoding(y_train, 2)\n",
    "y_test_encoded = one_hot_encoding(y_test, 2)"
   ]
  },
  {
   "cell_type": "code",
   "execution_count": 15,
   "id": "9c213c55",
   "metadata": {},
   "outputs": [
    {
     "name": "stderr",
     "output_type": "stream",
     "text": [
      " 10%|█         | 2/20 [00:00<00:02,  6.89it/s]"
     ]
    },
    {
     "name": "stdout",
     "output_type": "stream",
     "text": [
      "Epoch 1/20 ============ Loss: nan\n",
      "Epoch 2/20 ============ Loss: nan\n"
     ]
    },
    {
     "name": "stderr",
     "output_type": "stream",
     "text": [
      " 20%|██        | 4/20 [00:00<00:02,  7.46it/s]"
     ]
    },
    {
     "name": "stdout",
     "output_type": "stream",
     "text": [
      "Epoch 3/20 ============ Loss: nan\n",
      "Epoch 4/20 ============ Loss: nan\n"
     ]
    },
    {
     "name": "stderr",
     "output_type": "stream",
     "text": [
      " 30%|███       | 6/20 [00:00<00:02,  6.12it/s]"
     ]
    },
    {
     "name": "stdout",
     "output_type": "stream",
     "text": [
      "Epoch 5/20 ============ Loss: nan\n",
      "Epoch 6/20 ============ Loss: nan\n"
     ]
    },
    {
     "name": "stderr",
     "output_type": "stream",
     "text": [
      " 40%|████      | 8/20 [00:01<00:01,  6.62it/s]"
     ]
    },
    {
     "name": "stdout",
     "output_type": "stream",
     "text": [
      "Epoch 7/20 ============ Loss: nan\n",
      "Epoch 8/20 ============ Loss: nan\n"
     ]
    },
    {
     "name": "stderr",
     "output_type": "stream",
     "text": [
      " 50%|█████     | 10/20 [00:01<00:01,  7.05it/s]"
     ]
    },
    {
     "name": "stdout",
     "output_type": "stream",
     "text": [
      "Epoch 9/20 ============ Loss: nan\n",
      "Epoch 10/20 ============ Loss: nan\n"
     ]
    },
    {
     "name": "stderr",
     "output_type": "stream",
     "text": [
      " 55%|█████▌    | 11/20 [00:01<00:01,  6.75it/s]"
     ]
    },
    {
     "name": "stdout",
     "output_type": "stream",
     "text": [
      "Epoch 11/20 ============ Loss: nan\n"
     ]
    },
    {
     "name": "stderr",
     "output_type": "stream",
     "text": [
      " 65%|██████▌   | 13/20 [00:01<00:01,  6.57it/s]"
     ]
    },
    {
     "name": "stdout",
     "output_type": "stream",
     "text": [
      "Epoch 12/20 ============ Loss: nan\n",
      "Epoch 13/20 ============ Loss: nan\n"
     ]
    },
    {
     "name": "stderr",
     "output_type": "stream",
     "text": [
      " 70%|███████   | 14/20 [00:02<00:00,  6.44it/s]"
     ]
    },
    {
     "name": "stdout",
     "output_type": "stream",
     "text": [
      "Epoch 14/20 ============ Loss: nan\n"
     ]
    },
    {
     "name": "stderr",
     "output_type": "stream",
     "text": [
      " 75%|███████▌  | 15/20 [00:02<00:01,  4.39it/s]"
     ]
    },
    {
     "name": "stdout",
     "output_type": "stream",
     "text": [
      "Epoch 15/20 ============ Loss: nan\n"
     ]
    },
    {
     "name": "stderr",
     "output_type": "stream",
     "text": [
      " 85%|████████▌ | 17/20 [00:02<00:00,  4.70it/s]"
     ]
    },
    {
     "name": "stdout",
     "output_type": "stream",
     "text": [
      "Epoch 16/20 ============ Loss: nan\n",
      "Epoch 17/20 ============ Loss: nan\n"
     ]
    },
    {
     "name": "stderr",
     "output_type": "stream",
     "text": [
      " 95%|█████████▌| 19/20 [00:03<00:00,  5.93it/s]"
     ]
    },
    {
     "name": "stdout",
     "output_type": "stream",
     "text": [
      "Epoch 18/20 ============ Loss: nan\n",
      "Epoch 19/20 ============ Loss: nan\n"
     ]
    },
    {
     "name": "stderr",
     "output_type": "stream",
     "text": [
      "100%|██████████| 20/20 [00:03<00:00,  6.03it/s]"
     ]
    },
    {
     "name": "stdout",
     "output_type": "stream",
     "text": [
      "Epoch 20/20 ============ Loss: nan\n"
     ]
    },
    {
     "name": "stderr",
     "output_type": "stream",
     "text": [
      "\n"
     ]
    }
   ],
   "source": [
    "layers = [\n",
    "    Layer(input_size=X_train.shape[1], output_size=10, activation_function='sigmoid'),\n",
    "    Layer(input_size=10, output_size=4, activation_function='sigmoid'),\n",
    "    Layer(input_size=4, output_size=2, activation_function='sigmoid'),\n",
    "]\n",
    "\n",
    "# Initialize the neural network\n",
    "nn = NN(layers=layers, num_classes = 2, activation_function='sigmoid', loss_function='mean_squared_error')\n",
    "\n",
    "# Train the network\n",
    "epochs = 20\n",
    "nn.train(X_train, y_train_encoded, epochs=epochs, batch_size=1000, learning_rate=0.1, verbose=True, visualize=True)"
   ]
  },
  {
   "cell_type": "code",
   "execution_count": 16,
   "id": "5a812f69",
   "metadata": {},
   "outputs": [
    {
     "data": {
      "text/plain": [
       "{'loss': np.float64(nan),\n",
       " 'accuracy': np.float64(0.8934454555926736),\n",
       " 'precision': np.float64(0.4467227277963368),\n",
       " 'recall': np.float64(0.5),\n",
       " 'f1_score': np.float64(0.47186226196994585)}"
      ]
     },
     "execution_count": 16,
     "metadata": {},
     "output_type": "execute_result"
    }
   ],
   "source": [
    "nn.evaluate(X_test, y_test_encoded)"
   ]
  },
  {
   "cell_type": "markdown",
   "id": "f47dcbcf",
   "metadata": {},
   "source": [
    "## 2nd Dataset"
   ]
  },
  {
   "cell_type": "markdown",
   "id": "10fa3e5b",
   "metadata": {},
   "source": [
    "### Preprocessing Steps"
   ]
  },
  {
   "cell_type": "code",
   "execution_count": null,
   "id": "a0585814",
   "metadata": {},
   "outputs": [],
   "source": []
  },
  {
   "cell_type": "markdown",
   "id": "83a73802",
   "metadata": {},
   "source": [
    "### NN Modeling and Evaluation"
   ]
  },
  {
   "cell_type": "code",
   "execution_count": null,
   "id": "4992f4ee",
   "metadata": {},
   "outputs": [],
   "source": []
  }
 ],
 "metadata": {
  "kernelspec": {
   "display_name": "Python 3",
   "language": "python",
   "name": "python3"
  },
  "language_info": {
   "codemirror_mode": {
    "name": "ipython",
    "version": 3
   },
   "file_extension": ".py",
   "mimetype": "text/x-python",
   "name": "python",
   "nbconvert_exporter": "python",
   "pygments_lexer": "ipython3",
   "version": "3.9.6"
  }
 },
 "nbformat": 4,
 "nbformat_minor": 5
}
